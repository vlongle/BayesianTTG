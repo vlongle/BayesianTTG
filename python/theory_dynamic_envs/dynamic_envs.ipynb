{
 "cells": [
  {
   "cell_type": "markdown",
   "metadata": {},
   "source": [
    "To verify some theories about dynamic envs"
   ]
  },
  {
   "cell_type": "code",
   "execution_count": 1,
   "metadata": {},
   "outputs": [],
   "source": [
    "import numpy as np\n",
    "import matplotlib.pyplot as plt\n",
    "from itertools import product"
   ]
  },
  {
   "cell_type": "code",
   "execution_count": 2,
   "metadata": {},
   "outputs": [],
   "source": [
    "#v1 = lambda w: w >= 2\n",
    "#v2 = lambda w: 2 * (w >= 4)\n",
    "\n",
    "def example(w):\n",
    "    if w >= 3:\n",
    "        return 3\n",
    "    if w >= 2:\n",
    "        return 2\n",
    "    if w >= 1:\n",
    "        return 1\n",
    "    return 0\n"
   ]
  },
  {
   "cell_type": "code",
   "execution_count": 3,
   "metadata": {},
   "outputs": [],
   "source": [
    "#x = np.linspace(0, 10, 100)\n",
    "#plt.plot(x, v1(x))\n",
    "#plt.plot(x, v2(x));"
   ]
  },
  {
   "cell_type": "code",
   "execution_count": 4,
   "metadata": {},
   "outputs": [],
   "source": [
    "def div_rule(alpha):\n",
    "    # hard-code to illustrate the example!\n",
    "    if len(alpha) == 2:\n",
    "        if alpha[0] > alpha[1]:\n",
    "            return [1.0, 0.0]\n",
    "        elif alpha[0] < alpha[1]:\n",
    "            return [0.0, 1.0]\n",
    "        \n",
    "    return [alphai/sum(alpha) for alphai in alpha]"
   ]
  },
  {
   "cell_type": "code",
   "execution_count": 5,
   "metadata": {},
   "outputs": [],
   "source": [
    "def evaluate(path, Ws, envs, f):\n",
    "    '''\n",
    "    path: assignment\n",
    "    envs: list of function \n",
    "    assume everyone start out with M=0\n",
    "    \n",
    "    division rule is assume to be Mi/MC\n",
    "    f is a division_rule\n",
    "    '''\n",
    "    n = len(Ws)\n",
    "    T = len(path)\n",
    "    M = [[1 for _ in range(n)] for _ in range(T+1)]\n",
    "    for t, assignment in enumerate(path, start=1):\n",
    "        for room_num, room in enumerate(assignment):\n",
    "            v = envs[room_num]\n",
    "            W = sum([Ws[player] for player in room])\n",
    "            alpha = [M[t-1][player] for player in room]\n",
    "            div = f(alpha)\n",
    "            for playerId, player in enumerate(room):\n",
    "                M[t][player] = M[t-1][player] + v(W) * div[playerId]\n",
    "    \n",
    "    return M"
   ]
  },
  {
   "cell_type": "code",
   "execution_count": 6,
   "metadata": {},
   "outputs": [],
   "source": [
    "# assignment1 = [[0], [1,2]]\n",
    "# assignment2 = [[1], [0,2]]\n",
    "# path = [assignment1, assignment2]\n",
    "# envs = [v1, v2]\n",
    "# m = len(envs)"
   ]
  },
  {
   "cell_type": "code",
   "execution_count": 7,
   "metadata": {},
   "outputs": [],
   "source": [
    "# x = 2\n",
    "# Ws = [1,x,3]\n",
    "# n = len(Ws)"
   ]
  },
  {
   "cell_type": "markdown",
   "metadata": {},
   "source": [
    "# Example 1: increase weight in fixed path doesn't help\n",
    "\n",
    "The following is an example with fixed $\\omega$. Increase the weight of player 1 from $1.5$ to $1.6$ actually makes $\\{M_i \\geq M_j\\}$ no longer true."
   ]
  },
  {
   "cell_type": "code",
   "execution_count": 8,
   "metadata": {},
   "outputs": [],
   "source": [
    "x = 1.6 # x = [1.5, 1.6]\n",
    "Ws = [x,1.4,1]\n",
    "n = len(Ws)\n",
    "i = 0\n",
    "j = 1\n",
    "h = 2"
   ]
  },
  {
   "cell_type": "code",
   "execution_count": 9,
   "metadata": {},
   "outputs": [],
   "source": [
    "# counter-example!\n",
    "assignment1 = [[i, j], [h]]\n",
    "assignment2 = [[i], [j, h]]\n",
    "path = [assignment1, assignment2]\n",
    "envs = [example, example]\n",
    "m = len(envs)"
   ]
  },
  {
   "cell_type": "code",
   "execution_count": 10,
   "metadata": {},
   "outputs": [
    {
     "data": {
      "text/plain": [
       "'\\nA path is a t-length list of outcome where t = length of the trajectory.\\nAn outcome is a m-list, where m is the number of environments\\nEach outcome[room] is the list of players in that room\\n'"
      ]
     },
     "execution_count": 10,
     "metadata": {},
     "output_type": "execute_result"
    }
   ],
   "source": [
    "'''\n",
    "A path is a t-length list of outcome where t = length of the trajectory.\n",
    "An outcome is a m-list, where m is the number of environments\n",
    "Each outcome[room] is the list of players in that room\n",
    "'''"
   ]
  },
  {
   "cell_type": "code",
   "execution_count": 11,
   "metadata": {},
   "outputs": [
    {
     "data": {
      "text/plain": [
       "[[[0, 1], [2]], [[0], [1, 2]]]"
      ]
     },
     "execution_count": 11,
     "metadata": {},
     "output_type": "execute_result"
    }
   ],
   "source": [
    "path"
   ]
  },
  {
   "cell_type": "code",
   "execution_count": 12,
   "metadata": {},
   "outputs": [
    {
     "data": {
      "text/plain": [
       "[[1, 1, 1], [2.5, 2.5, 2.0], [3.5, 4.5, 2.0]]"
      ]
     },
     "execution_count": 12,
     "metadata": {},
     "output_type": "execute_result"
    }
   ],
   "source": [
    "evaluate(path, Ws, envs, div_rule)"
   ]
  },
  {
   "cell_type": "code",
   "execution_count": 13,
   "metadata": {},
   "outputs": [],
   "source": [
    "def generate_all_functions(X, Y):\n",
    "    # generate all functions from X to Y\n",
    "    # https://stackoverflow.com/questions/28649683/a-list-of-all-functions-from-x-to-y-in-python\n",
    "    return [dict(zip(X,y)) for y in product(Y,repeat=len(X))] "
   ]
  },
  {
   "cell_type": "code",
   "execution_count": 14,
   "metadata": {},
   "outputs": [],
   "source": [
    "fns = generate_all_functions(range(n), range(len(envs)))"
   ]
  },
  {
   "cell_type": "code",
   "execution_count": 15,
   "metadata": {},
   "outputs": [],
   "source": [
    "def generate_all_outcomes(assignment_dict, m):\n",
    "    ret = [[] for _ in range(m)]\n",
    "    for player, room in assignment_dict.items():\n",
    "        ret[room].append(player)\n",
    "    return ret"
   ]
  },
  {
   "cell_type": "code",
   "execution_count": 16,
   "metadata": {},
   "outputs": [
    {
     "data": {
      "text/plain": [
       "[[[0, 1, 2], []],\n",
       " [[0, 1], [2]],\n",
       " [[0, 2], [1]],\n",
       " [[0], [1, 2]],\n",
       " [[1, 2], [0]],\n",
       " [[1], [0, 2]],\n",
       " [[2], [0, 1]],\n",
       " [[], [0, 1, 2]]]"
      ]
     },
     "execution_count": 16,
     "metadata": {},
     "output_type": "execute_result"
    }
   ],
   "source": [
    "outcomes = [generate_all_outcomes(d, m) for d in fns]\n",
    "outcomes"
   ]
  },
  {
   "cell_type": "code",
   "execution_count": 17,
   "metadata": {},
   "outputs": [],
   "source": [
    "def generate_all_paths(outcomes, T):\n",
    "    # T = length of outcome\n",
    "    return list(product(outcomes,repeat=T))"
   ]
  },
  {
   "cell_type": "code",
   "execution_count": 18,
   "metadata": {},
   "outputs": [
    {
     "data": {
      "text/plain": [
       "64"
      ]
     },
     "execution_count": 18,
     "metadata": {},
     "output_type": "execute_result"
    }
   ],
   "source": [
    "T = 2\n",
    "paths = generate_all_paths(outcomes, T)\n",
    "len(paths)"
   ]
  },
  {
   "cell_type": "code",
   "execution_count": 19,
   "metadata": {},
   "outputs": [
    {
     "name": "stdout",
     "output_type": "stream",
     "text": [
      "path: ([[0, 1, 2], []], [[0, 1, 2], []]) ret: [3.0, 3.0, 3.0]\n",
      "path: ([[0, 1, 2], []], [[0, 1], [2]]) ret: [3.5, 3.5, 3.0]\n",
      "path: ([[0, 1, 2], []], [[0, 2], [1]]) ret: [3.0, 3.0, 3.0]\n",
      "path: ([[0, 1, 2], []], [[0], [1, 2]]) ret: [3.0, 3.0, 3.0]\n",
      "path: ([[0, 1, 2], []], [[1, 2], [0]]) ret: [3.0, 3.0, 3.0]\n",
      "path: ([[0, 1, 2], []], [[1], [0, 2]]) ret: [3.0, 3.0, 3.0]\n",
      "path: ([[0, 1, 2], []], [[2], [0, 1]]) ret: [3.5, 3.5, 3.0]\n",
      "path: ([[0, 1, 2], []], [[], [0, 1, 2]]) ret: [3.0, 3.0, 3.0]\n",
      "path: ([[0, 1], [2]], [[0, 1, 2], []]) ret: [3.571428571428571, 3.571428571428571, 2.857142857142857]\n",
      "path: ([[0, 1], [2]], [[0, 1], [2]]) ret: [4.0, 4.0, 3.0]\n",
      "path: ([[0, 1], [2]], [[0, 2], [1]]) ret: [4.5, 3.5, 2.0]\n",
      "path: ([[0, 1], [2]], [[0], [1, 2]]) ret: [3.5, 4.5, 2.0]\n",
      "path: ([[0, 1], [2]], [[1, 2], [0]]) ret: [3.5, 4.5, 2.0]\n",
      "path: ([[0, 1], [2]], [[1], [0, 2]]) ret: [4.5, 3.5, 2.0]\n",
      "path: ([[0, 1], [2]], [[2], [0, 1]]) ret: [4.0, 4.0, 3.0]\n",
      "path: ([[0, 1], [2]], [[], [0, 1, 2]]) ret: [3.571428571428571, 3.571428571428571, 2.857142857142857]\n",
      "path: ([[0, 2], [1]], [[0, 1, 2], []]) ret: [3.0, 3.0, 3.0]\n",
      "path: ([[0, 2], [1]], [[0, 1], [2]]) ret: [3.5, 3.5, 3.0]\n",
      "path: ([[0, 2], [1]], [[0, 2], [1]]) ret: [3.0, 3.0, 3.0]\n",
      "path: ([[0, 2], [1]], [[0], [1, 2]]) ret: [3.0, 3.0, 3.0]\n",
      "path: ([[0, 2], [1]], [[1, 2], [0]]) ret: [3.0, 3.0, 3.0]\n",
      "path: ([[0, 2], [1]], [[1], [0, 2]]) ret: [3.0, 3.0, 3.0]\n",
      "path: ([[0, 2], [1]], [[2], [0, 1]]) ret: [3.5, 3.5, 3.0]\n",
      "path: ([[0, 2], [1]], [[], [0, 1, 2]]) ret: [3.0, 3.0, 3.0]\n",
      "path: ([[0], [1, 2]], [[0, 1, 2], []]) ret: [3.0, 3.0, 3.0]\n",
      "path: ([[0], [1, 2]], [[0, 1], [2]]) ret: [3.5, 3.5, 3.0]\n",
      "path: ([[0], [1, 2]], [[0, 2], [1]]) ret: [3.0, 3.0, 3.0]\n",
      "path: ([[0], [1, 2]], [[0], [1, 2]]) ret: [3.0, 3.0, 3.0]\n",
      "path: ([[0], [1, 2]], [[1, 2], [0]]) ret: [3.0, 3.0, 3.0]\n",
      "path: ([[0], [1, 2]], [[1], [0, 2]]) ret: [3.0, 3.0, 3.0]\n",
      "path: ([[0], [1, 2]], [[2], [0, 1]]) ret: [3.5, 3.5, 3.0]\n",
      "path: ([[0], [1, 2]], [[], [0, 1, 2]]) ret: [3.0, 3.0, 3.0]\n",
      "path: ([[1, 2], [0]], [[0, 1, 2], []]) ret: [3.0, 3.0, 3.0]\n",
      "path: ([[1, 2], [0]], [[0, 1], [2]]) ret: [3.5, 3.5, 3.0]\n",
      "path: ([[1, 2], [0]], [[0, 2], [1]]) ret: [3.0, 3.0, 3.0]\n",
      "path: ([[1, 2], [0]], [[0], [1, 2]]) ret: [3.0, 3.0, 3.0]\n",
      "path: ([[1, 2], [0]], [[1, 2], [0]]) ret: [3.0, 3.0, 3.0]\n",
      "path: ([[1, 2], [0]], [[1], [0, 2]]) ret: [3.0, 3.0, 3.0]\n",
      "path: ([[1, 2], [0]], [[2], [0, 1]]) ret: [3.5, 3.5, 3.0]\n",
      "path: ([[1, 2], [0]], [[], [0, 1, 2]]) ret: [3.0, 3.0, 3.0]\n",
      "path: ([[1], [0, 2]], [[0, 1, 2], []]) ret: [3.0, 3.0, 3.0]\n",
      "path: ([[1], [0, 2]], [[0, 1], [2]]) ret: [3.5, 3.5, 3.0]\n",
      "path: ([[1], [0, 2]], [[0, 2], [1]]) ret: [3.0, 3.0, 3.0]\n",
      "path: ([[1], [0, 2]], [[0], [1, 2]]) ret: [3.0, 3.0, 3.0]\n",
      "path: ([[1], [0, 2]], [[1, 2], [0]]) ret: [3.0, 3.0, 3.0]\n",
      "path: ([[1], [0, 2]], [[1], [0, 2]]) ret: [3.0, 3.0, 3.0]\n",
      "path: ([[1], [0, 2]], [[2], [0, 1]]) ret: [3.5, 3.5, 3.0]\n",
      "path: ([[1], [0, 2]], [[], [0, 1, 2]]) ret: [3.0, 3.0, 3.0]\n",
      "path: ([[2], [0, 1]], [[0, 1, 2], []]) ret: [3.571428571428571, 3.571428571428571, 2.857142857142857]\n",
      "path: ([[2], [0, 1]], [[0, 1], [2]]) ret: [4.0, 4.0, 3.0]\n",
      "path: ([[2], [0, 1]], [[0, 2], [1]]) ret: [4.5, 3.5, 2.0]\n",
      "path: ([[2], [0, 1]], [[0], [1, 2]]) ret: [3.5, 4.5, 2.0]\n",
      "path: ([[2], [0, 1]], [[1, 2], [0]]) ret: [3.5, 4.5, 2.0]\n",
      "path: ([[2], [0, 1]], [[1], [0, 2]]) ret: [4.5, 3.5, 2.0]\n",
      "path: ([[2], [0, 1]], [[2], [0, 1]]) ret: [4.0, 4.0, 3.0]\n",
      "path: ([[2], [0, 1]], [[], [0, 1, 2]]) ret: [3.571428571428571, 3.571428571428571, 2.857142857142857]\n",
      "path: ([[], [0, 1, 2]], [[0, 1, 2], []]) ret: [3.0, 3.0, 3.0]\n",
      "path: ([[], [0, 1, 2]], [[0, 1], [2]]) ret: [3.5, 3.5, 3.0]\n",
      "path: ([[], [0, 1, 2]], [[0, 2], [1]]) ret: [3.0, 3.0, 3.0]\n",
      "path: ([[], [0, 1, 2]], [[0], [1, 2]]) ret: [3.0, 3.0, 3.0]\n",
      "path: ([[], [0, 1, 2]], [[1, 2], [0]]) ret: [3.0, 3.0, 3.0]\n",
      "path: ([[], [0, 1, 2]], [[1], [0, 2]]) ret: [3.0, 3.0, 3.0]\n",
      "path: ([[], [0, 1, 2]], [[2], [0, 1]]) ret: [3.5, 3.5, 3.0]\n",
      "path: ([[], [0, 1, 2]], [[], [0, 1, 2]]) ret: [3.0, 3.0, 3.0]\n"
     ]
    }
   ],
   "source": [
    "expected_loss = 0\n",
    "for path in paths:\n",
    "    ret = evaluate(path, Ws, envs, div_rule)[-1]\n",
    "    print('path:', path, 'ret:', ret)\n",
    "    if ret[i] >= ret[j]:\n",
    "        expected_loss += 1"
   ]
  },
  {
   "cell_type": "code",
   "execution_count": 20,
   "metadata": {},
   "outputs": [
    {
     "data": {
      "text/plain": [
       "0.9375"
      ]
     },
     "execution_count": 20,
     "metadata": {},
     "output_type": "execute_result"
    }
   ],
   "source": [
    "expected_loss/len(paths)"
   ]
  },
  {
   "cell_type": "markdown",
   "metadata": {},
   "source": [
    "# Example 2: swapping doesn't help"
   ]
  },
  {
   "cell_type": "code",
   "execution_count": 21,
   "metadata": {},
   "outputs": [],
   "source": [
    "i = 0\n",
    "j = 1\n",
    "k = 2\n",
    "h = 3"
   ]
  },
  {
   "cell_type": "code",
   "execution_count": 22,
   "metadata": {},
   "outputs": [],
   "source": [
    "def example2(w):\n",
    "    if w >= 3:\n",
    "        return 3.2\n",
    "    if w >= 2:\n",
    "        return 2\n",
    "    if w >= 1:\n",
    "        return 1\n",
    "    return 0"
   ]
  },
  {
   "cell_type": "code",
   "execution_count": 23,
   "metadata": {},
   "outputs": [],
   "source": [
    "# wi < wj but Mi > Mj\n",
    "Ws = [1,1.5,1.5,1]\n",
    "#Ws = [1,1.5,1.5,1.5]\n",
    "#Ws = [1,1.2,1.4,1]\n",
    "#Ws = [1.1,1.2,1.4,1]\n",
    "\n",
    "assignment1 = [[i, k], [j], [h]]\n",
    "assignment2 = [[i], [j], [k, h]]\n",
    "assignment3 = [[i, k, h], [j], []]\n",
    "\n",
    "path = [assignment1, assignment2, assignment3]\n",
    "envs = [example2, example2, example2]"
   ]
  },
  {
   "cell_type": "code",
   "execution_count": 24,
   "metadata": {},
   "outputs": [],
   "source": [
    "def div_rule2(alpha):\n",
    "    # hard-code to illustrate the example!\n",
    "    if len(alpha) == 3:\n",
    "        m = max(alpha)\n",
    "        if len([x for x in alpha if x == m]) == 1: # have no more than 1 max\n",
    "            for i, x in enumerate(alpha):\n",
    "                if x != m: alpha[i] = 0\n",
    "    return [alphai/sum(alpha) for alphai in alpha]"
   ]
  },
  {
   "cell_type": "code",
   "execution_count": 25,
   "metadata": {},
   "outputs": [
    {
     "data": {
      "text/plain": [
       "[[1, 1, 1, 1],\n",
       " [2.0, 2.0, 2.0, 2.0],\n",
       " [3.0, 3.0, 3.0, 3.0],\n",
       " [4.066666666666666, 4.0, 4.066666666666666, 4.066666666666666]]"
      ]
     },
     "execution_count": 25,
     "metadata": {},
     "output_type": "execute_result"
    }
   ],
   "source": [
    "evaluate(path, Ws, envs, div_rule2)"
   ]
  },
  {
   "cell_type": "code",
   "execution_count": 26,
   "metadata": {},
   "outputs": [],
   "source": [
    "# swap i and j\n",
    "# Mi still > Mj ==> This swapping cannot work either!\n",
    "assignment1 = [[j, k], [i], [h]]\n",
    "assignment2 = [[j], [i], [k, h]]\n",
    "assignment3 = [[j, k, h], [i], []]"
   ]
  },
  {
   "cell_type": "code",
   "execution_count": 27,
   "metadata": {
    "scrolled": true
   },
   "outputs": [
    {
     "data": {
      "text/plain": [
       "[[1, 1, 1, 1],\n",
       " [2.0, 2.6, 2.6, 2.0],\n",
       " [3.0, 3.6, 3.730434782608696, 2.8695652173913047],\n",
       " [4.0, 3.6, 6.930434782608696, 2.8695652173913047]]"
      ]
     },
     "execution_count": 27,
     "metadata": {},
     "output_type": "execute_result"
    }
   ],
   "source": [
    "path = [assignment1, assignment2, assignment3]\n",
    "evaluate(path, Ws, envs, div_rule2)"
   ]
  },
  {
   "cell_type": "code",
   "execution_count": 28,
   "metadata": {
    "scrolled": true
   },
   "outputs": [],
   "source": [
    "n = len(Ws)\n",
    "m = 3\n",
    "fns = generate_all_functions(range(n), range(len(envs)))\n",
    "outcomes = [generate_all_outcomes(d, m) for d in fns]\n",
    "\n",
    "T = 3\n",
    "paths = generate_all_paths(outcomes, T)\n",
    "\n",
    "rets = []\n",
    "expected_loss = 0\n",
    "for path in paths:\n",
    "    ret = evaluate(path, Ws, envs, div_rule)[-1]\n",
    "    #print('path:', path, 'ret:', ret)\n",
    "    if ret[j] >= ret[i]:\n",
    "        expected_loss += 1\n",
    "    rets.append(ret)"
   ]
  },
  {
   "cell_type": "code",
   "execution_count": 29,
   "metadata": {},
   "outputs": [
    {
     "data": {
      "text/plain": [
       "0.7895645988924452"
      ]
     },
     "execution_count": 29,
     "metadata": {},
     "output_type": "execute_result"
    }
   ],
   "source": [
    "expected_loss/len(paths)"
   ]
  },
  {
   "cell_type": "code",
   "execution_count": 30,
   "metadata": {},
   "outputs": [],
   "source": [
    "expected_loss = 0\n",
    "for ret in rets:\n",
    "    if ret[h] >= ret[i]:\n",
    "        expected_loss += 1"
   ]
  },
  {
   "cell_type": "code",
   "execution_count": 31,
   "metadata": {},
   "outputs": [
    {
     "data": {
      "text/plain": [
       "0.7261596301376823"
      ]
     },
     "execution_count": 31,
     "metadata": {},
     "output_type": "execute_result"
    }
   ],
   "source": [
    "expected_loss/len(rets)"
   ]
  },
  {
   "cell_type": "markdown",
   "metadata": {},
   "source": [
    "## Validate C++ Example"
   ]
  },
  {
   "cell_type": "code",
   "execution_count": 32,
   "metadata": {},
   "outputs": [],
   "source": [
    "Ws = [1,2,3]\n",
    "i = 0\n",
    "j = 2"
   ]
  },
  {
   "cell_type": "code",
   "execution_count": 33,
   "metadata": {},
   "outputs": [],
   "source": [
    "def env(w):\n",
    "    if w >= 2:\n",
    "        return 3\n",
    "    if w >= 1:\n",
    "        return 1\n",
    "    return 0"
   ]
  },
  {
   "cell_type": "code",
   "execution_count": 34,
   "metadata": {},
   "outputs": [],
   "source": [
    "def div_rule_C(alpha):\n",
    "    return [x/sum(alpha) for x in alpha]"
   ]
  },
  {
   "cell_type": "code",
   "execution_count": 35,
   "metadata": {},
   "outputs": [],
   "source": [
    "envs = [env, env]\n",
    "T=1"
   ]
  },
  {
   "cell_type": "code",
   "execution_count": 36,
   "metadata": {
    "scrolled": true
   },
   "outputs": [
    {
     "name": "stdout",
     "output_type": "stream",
     "text": [
      "path:  ([[0, 1, 2], []], [[0, 1, 2], []])\n",
      "[3.0, 3.0, 3.0]\n",
      "path:  ([[0, 1, 2], []], [[0, 1], [2]])\n",
      "[3.5, 3.5, 5.0]\n",
      "path:  ([[0, 1, 2], []], [[0, 2], [1]])\n",
      "[3.5, 5.0, 3.5]\n",
      "path:  ([[0, 1, 2], []], [[0], [1, 2]])\n",
      "[3.0, 3.5, 3.5]\n",
      "path:  ([[0, 1, 2], []], [[1, 2], [0]])\n",
      "[3.0, 3.5, 3.5]\n",
      "path:  ([[0, 1, 2], []], [[1], [0, 2]])\n",
      "[3.5, 5.0, 3.5]\n",
      "path:  ([[0, 1, 2], []], [[2], [0, 1]])\n",
      "[3.5, 3.5, 5.0]\n",
      "path:  ([[0, 1, 2], []], [[], [0, 1, 2]])\n",
      "[3.0, 3.0, 3.0]\n",
      "path:  ([[0, 1], [2]], [[0, 1, 2], []])\n",
      "[3.3333333333333335, 3.3333333333333335, 5.333333333333333]\n",
      "path:  ([[0, 1], [2]], [[0, 1], [2]])\n",
      "[4.0, 4.0, 7.0]\n",
      "path:  ([[0, 1], [2]], [[0, 2], [1]])\n",
      "[3.653846153846154, 5.5, 5.846153846153847]\n",
      "path:  ([[0, 1], [2]], [[0], [1, 2]])\n",
      "[3.5, 3.653846153846154, 5.846153846153847]\n",
      "path:  ([[0, 1], [2]], [[1, 2], [0]])\n",
      "[3.5, 3.653846153846154, 5.846153846153847]\n",
      "path:  ([[0, 1], [2]], [[1], [0, 2]])\n",
      "[3.653846153846154, 5.5, 5.846153846153847]\n",
      "path:  ([[0, 1], [2]], [[2], [0, 1]])\n",
      "[4.0, 4.0, 7.0]\n",
      "path:  ([[0, 1], [2]], [[], [0, 1, 2]])\n",
      "[3.3333333333333335, 3.3333333333333335, 5.333333333333333]\n",
      "path:  ([[0, 2], [1]], [[0, 1, 2], []])\n",
      "[3.3333333333333335, 5.333333333333333, 3.3333333333333335]\n",
      "path:  ([[0, 2], [1]], [[0, 1], [2]])\n",
      "[3.653846153846154, 5.846153846153847, 5.5]\n",
      "path:  ([[0, 2], [1]], [[0, 2], [1]])\n",
      "[4.0, 7.0, 4.0]\n",
      "path:  ([[0, 2], [1]], [[0], [1, 2]])\n",
      "[3.5, 5.846153846153847, 3.653846153846154]\n",
      "path:  ([[0, 2], [1]], [[1, 2], [0]])\n",
      "[3.5, 5.846153846153847, 3.653846153846154]\n",
      "path:  ([[0, 2], [1]], [[1], [0, 2]])\n",
      "[4.0, 7.0, 4.0]\n",
      "path:  ([[0, 2], [1]], [[2], [0, 1]])\n",
      "[3.653846153846154, 5.846153846153847, 5.5]\n",
      "path:  ([[0, 2], [1]], [[], [0, 1, 2]])\n",
      "[3.3333333333333335, 5.333333333333333, 3.3333333333333335]\n",
      "path:  ([[0], [1, 2]], [[0, 1, 2], []])\n",
      "[2.857142857142857, 3.571428571428571, 3.571428571428571]\n",
      "path:  ([[0], [1, 2]], [[0, 1], [2]])\n",
      "[3.333333333333333, 4.166666666666667, 5.5]\n",
      "path:  ([[0], [1, 2]], [[0, 2], [1]])\n",
      "[3.333333333333333, 5.5, 4.166666666666667]\n",
      "path:  ([[0], [1, 2]], [[0], [1, 2]])\n",
      "[3.0, 4.0, 4.0]\n",
      "path:  ([[0], [1, 2]], [[1, 2], [0]])\n",
      "[3.0, 4.0, 4.0]\n",
      "path:  ([[0], [1, 2]], [[1], [0, 2]])\n",
      "[3.333333333333333, 5.5, 4.166666666666667]\n",
      "path:  ([[0], [1, 2]], [[2], [0, 1]])\n",
      "[3.333333333333333, 4.166666666666667, 5.5]\n",
      "path:  ([[0], [1, 2]], [[], [0, 1, 2]])\n",
      "[2.857142857142857, 3.571428571428571, 3.571428571428571]\n",
      "path:  ([[1, 2], [0]], [[0, 1, 2], []])\n",
      "[2.857142857142857, 3.571428571428571, 3.571428571428571]\n",
      "path:  ([[1, 2], [0]], [[0, 1], [2]])\n",
      "[3.333333333333333, 4.166666666666667, 5.5]\n",
      "path:  ([[1, 2], [0]], [[0, 2], [1]])\n",
      "[3.333333333333333, 5.5, 4.166666666666667]\n",
      "path:  ([[1, 2], [0]], [[0], [1, 2]])\n",
      "[3.0, 4.0, 4.0]\n",
      "path:  ([[1, 2], [0]], [[1, 2], [0]])\n",
      "[3.0, 4.0, 4.0]\n",
      "path:  ([[1, 2], [0]], [[1], [0, 2]])\n",
      "[3.333333333333333, 5.5, 4.166666666666667]\n",
      "path:  ([[1, 2], [0]], [[2], [0, 1]])\n",
      "[3.333333333333333, 4.166666666666667, 5.5]\n",
      "path:  ([[1, 2], [0]], [[], [0, 1, 2]])\n",
      "[2.857142857142857, 3.571428571428571, 3.571428571428571]\n",
      "path:  ([[1], [0, 2]], [[0, 1, 2], []])\n",
      "[3.3333333333333335, 5.333333333333333, 3.3333333333333335]\n",
      "path:  ([[1], [0, 2]], [[0, 1], [2]])\n",
      "[3.653846153846154, 5.846153846153847, 5.5]\n",
      "path:  ([[1], [0, 2]], [[0, 2], [1]])\n",
      "[4.0, 7.0, 4.0]\n",
      "path:  ([[1], [0, 2]], [[0], [1, 2]])\n",
      "[3.5, 5.846153846153847, 3.653846153846154]\n",
      "path:  ([[1], [0, 2]], [[1, 2], [0]])\n",
      "[3.5, 5.846153846153847, 3.653846153846154]\n",
      "path:  ([[1], [0, 2]], [[1], [0, 2]])\n",
      "[4.0, 7.0, 4.0]\n",
      "path:  ([[1], [0, 2]], [[2], [0, 1]])\n",
      "[3.653846153846154, 5.846153846153847, 5.5]\n",
      "path:  ([[1], [0, 2]], [[], [0, 1, 2]])\n",
      "[3.3333333333333335, 5.333333333333333, 3.3333333333333335]\n",
      "path:  ([[2], [0, 1]], [[0, 1, 2], []])\n",
      "[3.3333333333333335, 3.3333333333333335, 5.333333333333333]\n",
      "path:  ([[2], [0, 1]], [[0, 1], [2]])\n",
      "[4.0, 4.0, 7.0]\n",
      "path:  ([[2], [0, 1]], [[0, 2], [1]])\n",
      "[3.653846153846154, 5.5, 5.846153846153847]\n",
      "path:  ([[2], [0, 1]], [[0], [1, 2]])\n",
      "[3.5, 3.653846153846154, 5.846153846153847]\n",
      "path:  ([[2], [0, 1]], [[1, 2], [0]])\n",
      "[3.5, 3.653846153846154, 5.846153846153847]\n",
      "path:  ([[2], [0, 1]], [[1], [0, 2]])\n",
      "[3.653846153846154, 5.5, 5.846153846153847]\n",
      "path:  ([[2], [0, 1]], [[2], [0, 1]])\n",
      "[4.0, 4.0, 7.0]\n",
      "path:  ([[2], [0, 1]], [[], [0, 1, 2]])\n",
      "[3.3333333333333335, 3.3333333333333335, 5.333333333333333]\n",
      "path:  ([[], [0, 1, 2]], [[0, 1, 2], []])\n",
      "[3.0, 3.0, 3.0]\n",
      "path:  ([[], [0, 1, 2]], [[0, 1], [2]])\n",
      "[3.5, 3.5, 5.0]\n",
      "path:  ([[], [0, 1, 2]], [[0, 2], [1]])\n",
      "[3.5, 5.0, 3.5]\n",
      "path:  ([[], [0, 1, 2]], [[0], [1, 2]])\n",
      "[3.0, 3.5, 3.5]\n",
      "path:  ([[], [0, 1, 2]], [[1, 2], [0]])\n",
      "[3.0, 3.5, 3.5]\n",
      "path:  ([[], [0, 1, 2]], [[1], [0, 2]])\n",
      "[3.5, 5.0, 3.5]\n",
      "path:  ([[], [0, 1, 2]], [[2], [0, 1]])\n",
      "[3.5, 3.5, 5.0]\n",
      "path:  ([[], [0, 1, 2]], [[], [0, 1, 2]])\n",
      "[3.0, 3.0, 3.0]\n"
     ]
    }
   ],
   "source": [
    "n = len(Ws)\n",
    "m = len(envs)\n",
    "fns = generate_all_functions(range(n), range(len(envs)))\n",
    "outcomes = [generate_all_outcomes(d, m) for d in fns]\n",
    "\n",
    "paths = generate_all_paths(outcomes, T)\n",
    "\n",
    "rets = []\n",
    "expected_loss = 0\n",
    "for path in paths:\n",
    "    print('path: ', path)\n",
    "    ret = evaluate(path, Ws, envs, div_rule_C)[-1]\n",
    "    #print('path:', path, 'ret:', ret)\n",
    "    if ret[j] >= ret[i]:\n",
    "        expected_loss += 1\n",
    "    print(ret)\n",
    "    rets.append(ret)"
   ]
  },
  {
   "cell_type": "code",
   "execution_count": 37,
   "metadata": {},
   "outputs": [
    {
     "data": {
      "text/plain": [
       "64"
      ]
     },
     "execution_count": 37,
     "metadata": {},
     "output_type": "execute_result"
    }
   ],
   "source": [
    "expected_loss"
   ]
  },
  {
   "cell_type": "code",
   "execution_count": 38,
   "metadata": {},
   "outputs": [
    {
     "data": {
      "text/plain": [
       "64"
      ]
     },
     "execution_count": 38,
     "metadata": {},
     "output_type": "execute_result"
    }
   ],
   "source": [
    "len(paths)"
   ]
  }
 ],
 "metadata": {
  "hide_input": false,
  "kernelspec": {
   "display_name": "Python 3",
   "language": "python",
   "name": "python3"
  },
  "language_info": {
   "codemirror_mode": {
    "name": "ipython",
    "version": 3
   },
   "file_extension": ".py",
   "mimetype": "text/x-python",
   "name": "python",
   "nbconvert_exporter": "python",
   "pygments_lexer": "ipython3",
   "version": "3.9.1"
  },
  "latex_envs": {
   "LaTeX_envs_menu_present": false,
   "autoclose": false,
   "autocomplete": false,
   "bibliofile": "biblio.bib",
   "cite_by": "apalike",
   "current_citInitial": 1,
   "eqLabelWithNumbers": false,
   "eqNumInitial": 1,
   "hotkeys": {
    "equation": "Ctrl-E",
    "itemize": "Ctrl-I"
   },
   "labels_anchors": false,
   "latex_user_defs": false,
   "report_style_numbering": false,
   "user_envs_cfg": false
  },
  "toc": {
   "base_numbering": 1,
   "nav_menu": {},
   "number_sections": true,
   "sideBar": true,
   "skip_h1_title": false,
   "title_cell": "Table of Contents",
   "title_sidebar": "Contents",
   "toc_cell": false,
   "toc_position": {},
   "toc_section_display": true,
   "toc_window_display": false
  }
 },
 "nbformat": 4,
 "nbformat_minor": 4
}
